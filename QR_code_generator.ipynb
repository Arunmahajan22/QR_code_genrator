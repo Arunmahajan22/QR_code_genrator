{
 "cells": [
  {
   "cell_type": "code",
   "execution_count": 1,
   "id": "15f0bac8-b251-49a8-855b-6e387f2081c8",
   "metadata": {},
   "outputs": [],
   "source": [
    "import pyqrcode\n",
    "data= #location of site\n",
    "qr=pyqrcode.create(data)\n",
    "qr.png(\"qr.png\",scale=5)"
   ]
  },
  {
   "cell_type": "code",
   "execution_count": null,
   "id": "d2965f37-dbf7-4783-b238-1a9fa1b65681",
   "metadata": {},
   "outputs": [],
   "source": []
  }
 ],
 "metadata": {
  "kernelspec": {
   "display_name": "Python 3 (ipykernel)",
   "language": "python",
   "name": "python3"
  },
  "language_info": {
   "codemirror_mode": {
    "name": "ipython",
    "version": 3
   },
   "file_extension": ".py",
   "mimetype": "text/x-python",
   "name": "python",
   "nbconvert_exporter": "python",
   "pygments_lexer": "ipython3",
   "version": "3.12.1"
  }
 },
 "nbformat": 4,
 "nbformat_minor": 5
}
